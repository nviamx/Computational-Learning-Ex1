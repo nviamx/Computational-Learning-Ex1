{
 "cells": [
  {
   "cell_type": "markdown",
   "id": "0160ca15",
   "metadata": {},
   "source": [
    "#### Load the data:"
   ]
  },
  {
   "cell_type": "code",
   "execution_count": 368,
   "id": "55cd88ad",
   "metadata": {},
   "outputs": [],
   "source": [
    "import numpy as np\n",
    "\n",
    "\n",
    "X = np.load('cifar10_features.npy')   # features\n",
    "y = np.load('cifar10_labels.npy')     # labels"
   ]
  },
  {
   "cell_type": "markdown",
   "id": "7b53a38e",
   "metadata": {},
   "source": [
    "#### Checking data validity:"
   ]
  },
  {
   "cell_type": "code",
   "execution_count": 369,
   "id": "319bdb0c",
   "metadata": {},
   "outputs": [
    {
     "name": "stdout",
     "output_type": "stream",
     "text": [
      "X shape: (50000, 16)\n",
      "y shape: (50000,)\n",
      "Example of first image (features): [-10.316492   -9.219499    5.6836095  10.560703   -7.8908167  -5.444539\n",
      " -13.386533    8.584426    1.2373098   2.620596   11.018443   -4.2349334\n",
      "   5.0958567   6.3705587  -1.8090839   7.2225003]\n",
      "Corresponding class: 4\n"
     ]
    }
   ],
   "source": [
    "print(\"X shape:\", X.shape)  # number of examples × number of features\n",
    "print(\"y shape:\", y.shape)  # number of classes\n",
    "\n",
    "# For example\n",
    "print(\"Example of first image (features):\", X[0])\n",
    "print(\"Corresponding class:\", y[0])"
   ]
  },
  {
   "cell_type": "markdown",
   "id": "54aa5fb2",
   "metadata": {},
   "source": [
    "#### Splitting the data: 70% training and 30% testing:"
   ]
  },
  {
   "cell_type": "code",
   "execution_count": 370,
   "id": "abf9b357",
   "metadata": {},
   "outputs": [
    {
     "name": "stdout",
     "output_type": "stream",
     "text": [
      "X_train shape: (35000, 16)\n",
      "X_test shape: (15000, 16)\n",
      "y_train shape: (35000,)\n",
      "y_test shape: (15000,)\n"
     ]
    }
   ],
   "source": [
    "from sklearn.model_selection import train_test_split\n",
    "\n",
    "X_train, X_test, y_train, y_test = train_test_split(\n",
    "    X, y, test_size=0.3, random_state=42\n",
    ")\n",
    "# We used random_state=42 based on your recommendation to ensure we get the same split every time we run the code\n",
    "# as we know that this is important for reproducibility of results\n",
    "\n",
    "# Print data shapes to verify\n",
    "print(\"X_train shape:\", X_train.shape)\n",
    "print(\"X_test shape:\", X_test.shape)\n",
    "print(\"y_train shape:\", y_train.shape)\n",
    "print(\"y_test shape:\", y_test.shape)"
   ]
  },
  {
   "cell_type": "markdown",
   "id": "780be00c",
   "metadata": {},
   "source": [
    "#### Logistic Regression with One-vs-All (OvA):"
   ]
  },
  {
   "cell_type": "code",
   "execution_count": 371,
   "id": "61278de9",
   "metadata": {},
   "outputs": [
    {
     "name": "stdout",
     "output_type": "stream",
     "text": [
      "Accuracy (OvA): 0.9617333333333333\n",
      "Training time (OvA): 15.96433687210083 seconds\n",
      "Log Loss (OvA): 0.14284730333836657\n",
      "F1-Mean (OvA): 0.9619666460455377\n"
     ]
    }
   ],
   "source": [
    "import numpy as np\n",
    "from sklearn.metrics import accuracy_score, log_loss, f1_score\n",
    "import time\n",
    "\n",
    "# === Binary Logistic Regression Implementation from Scratch ===\n",
    "class CustomLogisticRegression:\n",
    "    def __init__(self, learning_rate=0.5, max_iter=900):\n",
    "        self.learning_rate = learning_rate\n",
    "        self.max_iter = max_iter\n",
    "        self.weights = None\n",
    "        self.bias = None\n",
    "\n",
    "    def sigmoid(self, z):\n",
    "        return 1 / (1 + np.exp(-z)) #     𝟣\n",
    "                            # σ(z) = ───────────\n",
    "                            #         𝟣 + 𝑒^(−𝑧)\n",
    "                            \n",
    "                            # Note: 𝑧 = 𝓌𝒙 + 𝑏 (we computed this `𝓌𝒙 + 𝑏` in the predict_proba function and saved it as\n",
    "                            # a variable called \"linear_model\" and send it to \"sigmoid\" function as an input.\n",
    "\n",
    "    def fit(self, X, y):\n",
    "        n_samples, n_features = X.shape\n",
    "        self.weights = np.zeros(n_features)\n",
    "        self.bias = 0\n",
    "\n",
    "        for _ in range(self.max_iter):\n",
    "            # approximation\n",
    "            linear_model = np.dot(X, self.weights) + self.bias\n",
    "            y_predicted = self.sigmoid(linear_model)\n",
    "\n",
    "            # Gradient descent update:\n",
    "            dw = (1 / n_samples) * np.dot(X.T, (y_predicted - y)) # dw = (1 / N) * Σ [xᵢ * (ŷᵢ - yᵢ)]\n",
    "            db = (1 / n_samples) * np.sum(y_predicted - y)        # db = (1 / N) * Σ [ŷᵢ - yᵢ]\n",
    "\n",
    "            # Update\n",
    "            self.weights -= self.learning_rate * dw\n",
    "            self.bias -= self.learning_rate * db\n",
    "\n",
    "    def predict_proba(self, X):\n",
    "        linear_model = np.dot(X, self.weights) + self.bias # 𝑓(𝓌,𝑏) = 𝓌𝒙 + 𝑏\n",
    "        return self.sigmoid(linear_model)\n",
    "\n",
    "    def predict(self, X):\n",
    "        \"\"\"\n",
    "        Predicts the binary class labels (0 or 1) for input samples.\n",
    "        \n",
    "        Using the trained weights and bias, this method:\n",
    "        1. Gets probability estimates using predict_proba\n",
    "        2. Applies threshold of 0.5 to convert probabilities to binary predictions\n",
    "        \n",
    "        Args:\n",
    "            X: Input features of shape (n_samples, n_features)\n",
    "            \n",
    "        Returns:\n",
    "            Binary predictions (0 or 1) for each sample\n",
    "        \"\"\"\n",
    "        y_probs = self.predict_proba(X)\n",
    "        return np.where(y_probs >= 0.5, 1, 0)\n",
    "\n",
    "# === Complete One-vs-All Classifier Implementation ===\n",
    "class OvAClassifier:\n",
    "    def __init__(self, base_model):\n",
    "        self.base_model = base_model\n",
    "        self.classifiers = []\n",
    "        self.unique_classes = []\n",
    "\n",
    "    def fit(self, X, y):\n",
    "        self.unique_classes = np.unique(y)\n",
    "        self.classifiers = []\n",
    "\n",
    "        for cls in self.unique_classes:\n",
    "            binary_y = np.where(y == cls, 1, 0)\n",
    "            clf = CustomLogisticRegression()\n",
    "            clf.fit(X, binary_y)\n",
    "            self.classifiers.append(clf)\n",
    "\n",
    "    def predict(self, X):\n",
    "        probs = np.array([clf.predict_proba(X) for clf in self.classifiers])\n",
    "        return self.unique_classes[np.argmax(probs, axis=0)]\n",
    "\n",
    "    def predict_proba(self, X):\n",
    "        probs = np.array([clf.predict_proba(X) for clf in self.classifiers])\n",
    "        probs = probs.T  # shape: (n_samples, n_classes)\n",
    "\n",
    "        # Normalize probabilities for each row\n",
    "        row_sums = np.sum(probs, axis=1, keepdims=True)\n",
    "        row_sums[row_sums == 0] = 1e-12  # Avoid division by zero\n",
    "        normalized_probs = probs / row_sums\n",
    "        return normalized_probs\n",
    "\n",
    "\n",
    "start = time.time()\n",
    "\n",
    "model_ova = OvAClassifier(CustomLogisticRegression())\n",
    "model_ova.fit(X_train, y_train)\n",
    "\n",
    "end = time.time()\n",
    "\n",
    "y_pred = model_ova.predict(X_test)\n",
    "accuracy = accuracy_score(y_test, y_pred)\n",
    "print(\"Accuracy (OvA):\", accuracy)\n",
    "print(\"Training time (OvA):\", end - start, \"seconds\")\n",
    "\n",
    "y_proba = model_ova.predict_proba(X_test)\n",
    "loss = log_loss(y_test, y_proba)\n",
    "print(\"Log Loss (OvA):\", loss)\n",
    "\n",
    "f1 = f1_score(y_test, y_pred, average='macro')\n",
    "print(\"F1-Mean (OvA):\", f1)"
   ]
  },
  {
   "cell_type": "markdown",
   "id": "1347a19d",
   "metadata": {},
   "source": [
    "> **Note 1:**  \n",
    "> We experimented with multiple learning rates (e.g., 0.001, 0.01, 0.1, 0.5) and observed their impact on model performance.  \n",
    "> After testing, we found that a learning rate of **0.5** provided the best results in terms of training speed, accuracy, and log loss.\n",
    "\n",
    "> **Note 2:** We initially tried setting `max_iter` (maximum iterations) to 1000, but observed that the model typically reaches its optimal performance well before that. Continuing to train beyond this point not only failed to improve the results, but also had a **negative effect** on the model's accuracy. This degradation is likely due to **overfitting**, where the model starts to memorize the training data rather than generalizing well to unseen data.  \n",
    "> We experimented with several values like 700 and 800, and eventually settled on `max_iter = 900` as it consistently gave the highest accuracy and best overall performance."
   ]
  },
  {
   "cell_type": "markdown",
   "id": "e928fe7b",
   "metadata": {},
   "source": [
    "#### Logistic Regression with Softmax (Multinomial):"
   ]
  },
  {
   "cell_type": "code",
   "execution_count": 372,
   "id": "de4de670",
   "metadata": {},
   "outputs": [
    {
     "name": "stdout",
     "output_type": "stream",
     "text": [
      "Accuracy (Softmax): 0.9630666666666666\n",
      "Training time (Softmax): 1.8763740062713623 seconds\n",
      "Log Loss (cost function) - (Softmax): 0.10767825354186945\n",
      "F1-Mean (Softmax): 0.9632949863960201\n"
     ]
    }
   ],
   "source": [
    "from sklearn.linear_model import LogisticRegression\n",
    "from sklearn.metrics import accuracy_score\n",
    "import time\n",
    "from sklearn.metrics import log_loss\n",
    "from sklearn.metrics import f1_score\n",
    "\n",
    "# Start measuring time\n",
    "start = time.time()\n",
    "\n",
    "# Model using Softmax\n",
    "model_softmax = LogisticRegression(solver='lbfgs', max_iter=900)\n",
    "\n",
    "# Train the model\n",
    "model_softmax.fit(X_train, y_train)\n",
    "\n",
    "# End time\n",
    "end = time.time()\n",
    "\n",
    "# Predict classes\n",
    "y_pred_softmax = model_softmax.predict(X_test)\n",
    "\n",
    "# Calculate accuracy\n",
    "accuracy_softmax = accuracy_score(y_test, y_pred_softmax)\n",
    "\n",
    "print(\"Accuracy (Softmax):\", accuracy_softmax)\n",
    "print(\"Training time (Softmax):\", end - start, \"seconds\")\n",
    "\n",
    "# Calculate cost function for softmax\n",
    "loss_softmax = log_loss(y_test, model_softmax.predict_proba(X_test))\n",
    "print(\"Log Loss (cost function) - (Softmax):\", loss_softmax)\n",
    "\n",
    "# Calculate F1-mean for Softmax model\n",
    "f1_softmax = f1_score(y_test, y_pred_softmax, average='macro')\n",
    "print(\"F1-Mean (Softmax):\", f1_softmax)"
   ]
  },
  {
   "cell_type": "markdown",
   "id": "ed86abfd",
   "metadata": {},
   "source": [
    "> **Note:**  \n",
    "> After comparing the training time between our custom One-vs-All (OvA) implementation from scratch and the built-in Softmax classifier from `scikit-learn`, we observed that Softmax was approximately **8 times faster**.  \n",
    "> This performance gap is primarily due to `scikit-learn` being highly optimized with underlying implementations in **C/Cython**, while our OvA model relies on pure Python and `NumPy`, which are significantly slower for iterative computations like gradient descent."
   ]
  },
  {
   "cell_type": "markdown",
   "id": "b891d1b8",
   "metadata": {},
   "source": [
    "<h4>Confusion Matrix (OvA):</h4>"
   ]
  },
  {
   "cell_type": "code",
   "execution_count": 373,
   "id": "9f512d30",
   "metadata": {},
   "outputs": [
    {
     "name": "stdout",
     "output_type": "stream",
     "text": [
      "Confusion Matrix (OvA):\n",
      "[[1400    2   10    7    5    3    2   10   19    6]\n",
      " [   3 1467    1    1    0    1    0    1    4    7]\n",
      " [  12    4 1365   16   15   16    5    3    1    3]\n",
      " [  15    5   10 1456   10   52    5   11    2    3]\n",
      " [   6    0   10   17 1468    5    3    8    1    1]\n",
      " [   2    1    8   47   14 1438    8   12    2    2]\n",
      " [   5    4    9   17    4    6 1416    0    1    1]\n",
      " [   4    0    2   19    7    6    0 1457    0    2]\n",
      " [  12    3    1    3    1    0    2    0 1481    7]\n",
      " [  12    7    1    6    0    2    2    5    6 1478]]\n"
     ]
    },
    {
     "data": {
      "image/png": "[encoded data removed]",
      "text/plain": [
       "<Figure size 1000x800 with 2 Axes>"
      ]
     },
     "metadata": {},
     "output_type": "display_data"
    }
   ],
   "source": [
    "from sklearn.metrics import confusion_matrix\n",
    "import matplotlib.pyplot as plt\n",
    "import seaborn as sns\n",
    "\n",
    "# Compute the confusion matrix for the OvA model\n",
    "cm_ova = confusion_matrix(y_test, y_pred)\n",
    "\n",
    "# Print the confusion matrix as a raw array\n",
    "print(\"Confusion Matrix (OvA):\")\n",
    "print(cm_ova)\n",
    "\n",
    "# Plot the confusion matrix using a heatmap\n",
    "plt.figure(figsize=(10, 8))\n",
    "sns.heatmap(cm_ova, annot=True, fmt='d', cmap='Blues', xticklabels=range(10), yticklabels=range(10))\n",
    "\n",
    "# Add labels and title\n",
    "plt.xlabel('Predicted label')\n",
    "plt.ylabel('True label')\n",
    "plt.title('Confusion Matrix - One-vs-All (OvA)')\n",
    "plt.show()"
   ]
  },
  {
   "cell_type": "markdown",
   "id": "18885ed9",
   "metadata": {},
   "source": [
    "#### Creating a specialized model to improve predictions for class 3 or 5 cases"
   ]
  },
  {
   "cell_type": "code",
   "execution_count": 374,
   "id": "a8537c10",
   "metadata": {},
   "outputs": [
    {
     "name": "stdout",
     "output_type": "stream",
     "text": [
      "Accuracy between class 3 and 5: 0.9622945536577505\n"
     ]
    }
   ],
   "source": [
    "import numpy as np\n",
    "from sklearn.linear_model import LogisticRegression\n",
    "from sklearn.metrics import accuracy_score\n",
    "\n",
    "# Filter the training set to only include classes 3 and 5\n",
    "mask_train = np.isin(y_train, [3, 5])\n",
    "X_train_35 = X_train[mask_train]\n",
    "y_train_35 = y_train[mask_train]\n",
    "\n",
    "# Filter the test set to only include classes 3 and 5\n",
    "mask_test = np.isin(y_test, [3, 5])\n",
    "X_test_35 = X_test[mask_test]\n",
    "y_test_35 = y_test[mask_test]\n",
    "\n",
    "# Train a new binary classifier for classes 3 and 5\n",
    "model_35 = LogisticRegression(solver='lbfgs', max_iter=900)\n",
    "model_35.fit(X_train_35, y_train_35)\n",
    "\n",
    "# Predict on the test data\n",
    "y_pred_35 = model_35.predict(X_test_35)\n",
    "\n",
    "# Calculate accuracy\n",
    "acc_35 = accuracy_score(y_test_35, y_pred_35)\n",
    "print(\"Accuracy between class 3 and 5:\", acc_35)"
   ]
  },
  {
   "cell_type": "markdown",
   "id": "4c172cd7",
   "metadata": {},
   "source": [
    "> **Note:** The following cell is not intended to be executed.  \n",
    "It is provided for documentation purposes only, to demonstrate the iterative thinking and step-by-step improvements we made during the integration of a specialized classifier into the original multiclass model.  \n",
    "This helps visualize the process we followed and track how our model performance evolved over time."
   ]
  },
  {
   "cell_type": "code",
   "execution_count": 375,
   "id": "8926546b",
   "metadata": {},
   "outputs": [],
   "source": [
    "# import numpy as np\n",
    "# from sklearn.metrics import accuracy_score, log_loss, f1_score\n",
    "\n",
    "# # Initialize predictions and probabilities\n",
    "# y_pred_merged = y_pred.copy()\n",
    "# probas_ova = model_ova.predict_proba(X_test)\n",
    "# y_proba_merged = probas_ova.copy()\n",
    "\n",
    "# # Find cases where model predicted class 3 or 5\n",
    "# mask_35 = np.isin(y_pred_merged, [3, 5])\n",
    "# X_test_selected = X_test[mask_35]\n",
    "\n",
    "# # Get predictions from specialized model\n",
    "# refined_predictions = model_35.predict(X_test_selected)\n",
    "# refined_probas = model_35.predict_proba(X_test_selected)\n",
    "\n",
    "# # Update predictions\n",
    "# y_pred_merged[mask_35] = refined_predictions\n",
    "\n",
    "# # Update probabilities for selected cases\n",
    "# selected_indices = np.where(mask_35)[0]\n",
    "# y_proba_merged[selected_indices] = 0  # Reset probabilities\n",
    "# for i, idx in enumerate(selected_indices):\n",
    "#     y_proba_merged[idx, 3] = refined_probas[i, 0]  # Probability for class 3\n",
    "#     y_proba_merged[idx, 5] = refined_probas[i, 1]  # Probability for class 5\n",
    "#     # Normalize probabilities\n",
    "#     y_proba_merged[idx] = y_proba_merged[idx] / np.sum(y_proba_merged[idx])\n",
    "\n",
    "# # Calculate metrics\n",
    "# accuracy_merged = accuracy_score(y_test, y_pred_merged)\n",
    "# loss_merged = log_loss(y_test, y_proba_merged)\n",
    "# f1_merged = f1_score(y_test, y_pred_merged, average='macro')\n",
    "\n",
    "# print(f\"Metrics after model integration according to our first approach:\")\n",
    "# print(f\"Accuracy: {accuracy_merged:.4f}\")\n",
    "# print(f\"Log Loss: {loss_merged:.4f}\")\n",
    "# print(f\"F1-Score: {f1_merged:.4f}\")"
   ]
  },
  {
   "cell_type": "markdown",
   "id": "54c709b2",
   "metadata": {},
   "source": [
    "> ✅ The following cell contains the final implementation we adopted after identifying issues with our initial integration attempt.  \n",
    "> This version provides a balanced merge between the original model's predictions and the refined probabilities from the specialized classifier."
   ]
  },
  {
   "cell_type": "code",
   "execution_count": 376,
   "id": "f8776ee7",
   "metadata": {},
   "outputs": [
    {
     "name": "stdout",
     "output_type": "stream",
     "text": [
      "Metrics after model integration:\n",
      "Accuracy: 0.9618\n",
      "Log Loss: 0.1411\n",
      "F1-Score: 0.9620\n"
     ]
    }
   ],
   "source": [
    "import numpy as np\n",
    "from sklearn.metrics import accuracy_score, log_loss, f1_score\n",
    "\n",
    "# Initialize predictions and probabilities\n",
    "y_pred_merged = y_pred.copy()\n",
    "probas_ova = model_ova.predict_proba(X_test)\n",
    "y_proba_merged = probas_ova.copy()\n",
    "\n",
    "# Find cases where model predicted class 3 or 5\n",
    "mask_35 = np.isin(y_pred_merged, [3, 5])\n",
    "X_test_selected = X_test[mask_35]\n",
    "\n",
    "# Get predictions from specialized model\n",
    "refined_predictions = model_35.predict(X_test_selected)\n",
    "refined_probas = model_35.predict_proba(X_test_selected)\n",
    "\n",
    "# Update predictions\n",
    "y_pred_merged[mask_35] = refined_predictions\n",
    "\n",
    "# Update probabilities for selected cases more carefully\n",
    "selected_indices = np.where(mask_35)[0]\n",
    "for i, idx in enumerate(selected_indices):\n",
    "    # Get original probabilities\n",
    "    orig_probs = y_proba_merged[idx].copy()\n",
    "    \n",
    "    # Scale down original probabilities for all classes except 3 and 5\n",
    "    scale_factor = 0.3  # Keep 30% of original probabilities for other classes\n",
    "    for c in range(10):\n",
    "        if c not in [3, 5]:\n",
    "            orig_probs[c] *= scale_factor\n",
    "    \n",
    "    # Add refined probabilities for classes 3 and 5\n",
    "    orig_probs[3] = refined_probas[i, 0] * (1 - scale_factor)\n",
    "    orig_probs[5] = refined_probas[i, 1] * (1 - scale_factor)\n",
    "    \n",
    "    # Normalize to ensure sum is 1\n",
    "    y_proba_merged[idx] = orig_probs / np.sum(orig_probs)\n",
    "\n",
    "# Calculate metrics\n",
    "accuracy_merged = accuracy_score(y_test, y_pred_merged)\n",
    "loss_merged = log_loss(y_test, y_proba_merged)\n",
    "f1_merged = f1_score(y_test, y_pred_merged, average='macro')\n",
    "\n",
    "print(f\"Metrics after model integration:\")\n",
    "print(f\"Accuracy: {accuracy_merged:.4f}\")\n",
    "print(f\"Log Loss: {loss_merged:.4f}\")\n",
    "print(f\"F1-Score: {f1_merged:.4f}\")"
   ]
  },
  {
   "cell_type": "markdown",
   "id": "40b38d7a",
   "metadata": {},
   "source": [
    "> After integrating the specialized model for classes 3 and 5, we observed noticeable improvements in accuracy, F1-score, and log loss.  \n",
    "> Below, we explain what we initially tried, why it caused performance issues, and how we resolved them through a more balanced integration strategy.\n",
    "\n",
    "### **Model Integration – Why Log Loss Increased and How We Fixed It**\n",
    "\n",
    "Initially, we tried to integrate a specialized binary classifier (trained to distinguish only between class 3 and class 5) into our main 10-class OvA model by directly replacing the probabilities for these two classes.\n",
    "\n",
    "#### **What we did in the first attempt:**\n",
    "- For samples originally predicted as class 3 or 5:\n",
    "  - We **zeroed out** all probabilities for other classes.\n",
    "  - We **replaced** the probabilities for class 3 and 5 using the refined model.\n",
    "  - We then **normalized** the result to ensure the total probability was 1.\n",
    "\n",
    "#### **Problem with this approach:**\n",
    "- We lost all useful probability information from the original model.\n",
    "- The new probability distribution was too extreme (too confident in class 3 or 5).\n",
    "- This made the model overfit on these cases and led to worse performance:\n",
    "  - **Log Loss jumped from ~0.14 to ~0.41**, indicating poor probability calibration.\n",
    "\n",
    "#### **How we improved it:**\n",
    "- Instead of fully overriding the original probabilities:\n",
    "  - We **retained 30%** of the original model's probability distribution (for all 10 classes).\n",
    "  - We **used 70%** to inject the refined model's probabilities (for classes 3 and 5).\n",
    "  - We normalized the result to maintain a valid probability distribution.\n",
    "\n",
    "#### **Why this worked:**\n",
    "- We preserved part of the model's general confidence in other classes.\n",
    "- We allowed some uncertainty rather than making the model too sharp.\n",
    "- The resulting predictions were better calibrated and more stable.\n",
    "\n",
    "This **softer integration** significantly reduced the log loss and improved overall performance."
   ]
  },
  {
   "cell_type": "markdown",
   "id": "ebfddf3c",
   "metadata": {},
   "source": [
    "### testmymodel function:"
   ]
  },
  {
   "cell_type": "code",
   "execution_count": 377,
   "id": "56ca1ebc",
   "metadata": {},
   "outputs": [],
   "source": [
    "import numpy as np\n",
    "from sklearn.metrics import accuracy_score\n",
    "\n",
    "def testmymodel(model, X_file, y_file):\n",
    "    \"\"\"\n",
    "    Loads test data from given .npy files and evaluates the model's accuracy.\n",
    "\n",
    "    Parameters:\n",
    "        model   -- a trained classification model with a .predict() method\n",
    "        X_file  -- path to a .npy file containing the feature matrix\n",
    "        y_file  -- path to a .npy file containing the true labels\n",
    "\n",
    "    Returns:\n",
    "        accuracy (float): the accuracy of the model on the loaded data\n",
    "    \"\"\"\n",
    "    # Load features and labels from the files\n",
    "    X = np.load(X_file)\n",
    "    y = np.load(y_file)\n",
    "\n",
    "    # Predict using the model\n",
    "    y_pred = model.predict(X)\n",
    "\n",
    "    # Calculate accuracy\n",
    "    acc = accuracy_score(y, y_pred)\n",
    "\n",
    "    return acc"
   ]
  },
  {
   "cell_type": "markdown",
   "id": "2f557f5a",
   "metadata": {},
   "source": [
    "### Example of use:"
   ]
  },
  {
   "cell_type": "code",
   "execution_count": 378,
   "id": "4aadcb50",
   "metadata": {},
   "outputs": [
    {
     "name": "stdout",
     "output_type": "stream",
     "text": [
      "Accuracy on full CIFAR-10 data: 0.96022\n"
     ]
    }
   ],
   "source": [
    "acc_on_new_data = testmymodel(model_ova, \"cifar10_features.npy\", \"cifar10_labels.npy\")\n",
    "print(\"Accuracy on full CIFAR-10 data:\", acc_on_new_data)"
   ]
  },
  {
   "cell_type": "markdown",
   "id": "354a5ddd",
   "metadata": {},
   "source": [
    "### Available Models Implementation Summary\n",
    "\n",
    "This notebook provides two different implementations for CIFAR-10 classification:\n",
    "\n",
    "1. **Custom One-vs-All (OvA) Implementation** - `model_ova`\n",
    "   - Built from scratch using NumPy\n",
    "   - Includes our own gradient descent and sigmoid implementations\n",
    "   - Enhanced with specialized binary classifier for classes 3 and 5\n",
    "   - Learning rate: 0.5\n",
    "   - Maximum iterations: 900\n",
    "\n",
    "2. **Scikit-learn Softmax Implementation** - `model_softmax`\n",
    "   - Uses scikit-learn's LogisticRegression with multinomial option\n",
    "   - Optimized C/Cython implementation\n",
    "   - Solver: 'lbfgs'\n",
    "   - Maximum iterations: 900\n",
    "\n",
    "Both models have been trained and validated on the CIFAR-10 dataset with a 70-30 train-test split.\n",
    "\n",
    "**Usage Example:**\n",
    "```python\n",
    "# To test the One-vs-All implementation:\n",
    "result_ova = testmymodel(model_ova, \"cifar10_features.npy\", \"cifar10_labels.npy\")\n",
    "\n",
    "# To test the Softmax implementation:\n",
    "result_softmax = testmymodel(model_softmax, \"cifar10_features.npy\", \"cifar10_labels.npy\")\n",
    "```\n",
    "\n",
    "Both models are ready to use and have been optimized for the CIFAR-10 classification task."
   ]
  }
 ],
 "metadata": {
  "kernelspec": {
   "display_name": "base",
   "language": "python",
   "name": "python3"
  },
  "language_info": {
   "codemirror_mode": {
    "name": "ipython",
    "version": 3
   },
   "file_extension": ".py",
   "mimetype": "text/x-python",
   "name": "python",
   "nbconvert_exporter": "python",
   "pygments_lexer": "ipython3",
   "version": "3.12.7"
  }
 },
 "nbformat": 4,
 "nbformat_minor": 5
}
